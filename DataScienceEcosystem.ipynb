{
 "cells": [
  {
   "cell_type": "markdown",
   "id": "a0c22ae3-7d6b-411f-961c-e38d3d10dd2a",
   "metadata": {},
   "source": [
    "# Data Science Tools and Ecosystem"
   ]
  },
  {
   "cell_type": "markdown",
   "id": "c782fc45-5aeb-4c74-bcfc-61281531c19b",
   "metadata": {},
   "source": [
    "### In this notebook, Data Science Tools and Ecosystem are summarized."
   ]
  },
  {
   "cell_type": "markdown",
   "id": "04db79d6-4487-4475-a035-6827bf5a0f4a",
   "metadata": {},
   "source": [
    "#### Objectives:\n",
    "\n",
    "- List popular languages for Data Science\n",
    "- Name commonly used Data Science Libraries\n",
    "- Identify commonly used Data Science Tools\n",
    "- Executing arithmetic expressions in Python"
   ]
  },
  {
   "cell_type": "markdown",
   "id": "9a592936-1b74-448b-8b36-8a707c8a22a0",
   "metadata": {},
   "source": [
    "#### Some of the popular languages that Data Scientists use are:\n",
    "1. Python\n",
    "2. SQL\n",
    "3. R\n",
    "4. C ++\n",
    "5. JavaScript"
   ]
  },
  {
   "cell_type": "markdown",
   "id": "d3fde7d0-807b-48fa-a6a0-3adf5ba51aa3",
   "metadata": {
    "tags": []
   },
   "source": [
    "#### Some of the commonly used libraries used by Data Scientists include:\n",
    "1. Pandas\n",
    "2. NumPy\n",
    "3. Matplotlib\n",
    "4. Seaborn\n",
    "5. Scikit-learn\n",
    "6. Keras\n",
    "7. Tensorflow\n",
    "8. PyTorch\n",
    "9. Apache Spark\n",
    "10. Scala Vegas\n",
    "11. Scala BigDL\n",
    "12. ggplot2"
   ]
  },
  {
   "cell_type": "markdown",
   "id": "30899425-16b1-4a69-8403-65f3a71a0d17",
   "metadata": {},
   "source": [
    "#### Some of the most commonly used Data Science Tools are:"
   ]
  },
  {
   "cell_type": "markdown",
   "id": "274c2f99-814d-4ed0-8a6c-54d6dcc32024",
   "metadata": {},
   "source": [
    "| Data Science Tools|\n",
    "|-------------------|\n",
    "|Jupyter Lab        |\n",
    "|Appache Zeppelin   |\n",
    "|R Studio           |"
   ]
  },
  {
   "cell_type": "markdown",
   "id": "e4832dd5-ed93-4058-bb0e-1a41886bd063",
   "metadata": {},
   "source": [
    "### Below are a few examples of evaluating arithmetic expressions in Python\n"
   ]
  },
  {
   "cell_type": "markdown",
   "id": "314b0f49-3e03-4444-a02d-51d779ba33b4",
   "metadata": {},
   "source": [
    "##### This a simple arithmetic expression to mutiply then add integers"
   ]
  },
  {
   "cell_type": "code",
   "execution_count": 1,
   "id": "4aff010f-7ee5-40b2-95ae-e68b55fdc4b5",
   "metadata": {
    "tags": []
   },
   "outputs": [
    {
     "data": {
      "text/plain": [
       "17"
      ]
     },
     "execution_count": 1,
     "metadata": {},
     "output_type": "execute_result"
    }
   ],
   "source": [
    "(3*4)+5"
   ]
  },
  {
   "cell_type": "markdown",
   "id": "21e096fa-b4f2-4830-a1b5-35cda6fe865c",
   "metadata": {},
   "source": [
    "##### This will convert 200 minutes to hours by diving by 60"
   ]
  },
  {
   "cell_type": "code",
   "execution_count": 1,
   "id": "a273f715-37b8-4b94-8e58-9cd32f553430",
   "metadata": {
    "tags": []
   },
   "outputs": [
    {
     "data": {
      "text/plain": [
       "3.3333333333333335"
      ]
     },
     "execution_count": 1,
     "metadata": {},
     "output_type": "execute_result"
    }
   ],
   "source": [
    "200/60"
   ]
  },
  {
   "cell_type": "markdown",
   "id": "7d6d7524-8e72-476b-93b4-283da55a6e44",
   "metadata": {},
   "source": [
    "## Author\n",
    "Jeremy Bosse"
   ]
  },
  {
   "cell_type": "code",
   "execution_count": null,
   "id": "542c9ef3-44df-4b9e-812f-36e835116508",
   "metadata": {},
   "outputs": [],
   "source": []
  }
 ],
 "metadata": {
  "kernelspec": {
   "display_name": "Python",
   "language": "python",
   "name": "conda-env-python-py"
  },
  "language_info": {
   "codemirror_mode": {
    "name": "ipython",
    "version": 3
   },
   "file_extension": ".py",
   "mimetype": "text/x-python",
   "name": "python",
   "nbconvert_exporter": "python",
   "pygments_lexer": "ipython3",
   "version": "3.7.12"
  }
 },
 "nbformat": 4,
 "nbformat_minor": 5
}
